{
 "cells": [
  {
   "cell_type": "markdown",
   "id": "5b0a6373",
   "metadata": {
    "papermill": {
     "duration": 0.011272,
     "end_time": "2024-10-14T14:19:28.261878",
     "exception": false,
     "start_time": "2024-10-14T14:19:28.250606",
     "status": "completed"
    },
    "tags": []
   },
   "source": [
    "### Import libraries"
   ]
  },
  {
   "cell_type": "code",
   "execution_count": 1,
   "id": "d6ddde6b",
   "metadata": {
    "execution": {
     "iopub.execute_input": "2024-10-14T14:19:28.282238Z",
     "iopub.status.busy": "2024-10-14T14:19:28.281777Z",
     "iopub.status.idle": "2024-10-14T14:19:45.556092Z",
     "shell.execute_reply": "2024-10-14T14:19:45.554945Z"
    },
    "papermill": {
     "duration": 17.287014,
     "end_time": "2024-10-14T14:19:45.558790",
     "exception": false,
     "start_time": "2024-10-14T14:19:28.271776",
     "status": "completed"
    },
    "tags": []
   },
   "outputs": [],
   "source": [
    "import numpy as np \n",
    "import pandas as pd\n",
    "import matplotlib.pyplot as plt\n",
    "import tensorflow as tf\n",
    "import keras \n",
    "from keras.layers import Dense\n",
    "import json \n",
    "import re\n",
    "import string\n",
    "from sklearn.feature_extraction.text import TfidfVectorizer\n",
    "import unicodedata\n",
    "from sklearn.model_selection import train_test_split"
   ]
  },
  {
   "cell_type": "markdown",
   "id": "dc5ce53c",
   "metadata": {
    "papermill": {
     "duration": 0.009071,
     "end_time": "2024-10-14T14:19:45.577059",
     "exception": false,
     "start_time": "2024-10-14T14:19:45.567988",
     "status": "completed"
    },
    "tags": []
   },
   "source": [
    "### Load Dataset"
   ]
  },
  {
   "cell_type": "code",
   "execution_count": 2,
   "id": "c8a4ea38",
   "metadata": {
    "execution": {
     "iopub.execute_input": "2024-10-14T14:19:45.599243Z",
     "iopub.status.busy": "2024-10-14T14:19:45.597938Z",
     "iopub.status.idle": "2024-10-14T14:19:45.626573Z",
     "shell.execute_reply": "2024-10-14T14:19:45.625231Z"
    },
    "papermill": {
     "duration": 0.041799,
     "end_time": "2024-10-14T14:19:45.629168",
     "exception": false,
     "start_time": "2024-10-14T14:19:45.587369",
     "status": "completed"
    },
    "tags": []
   },
   "outputs": [
    {
     "name": "stdout",
     "output_type": "stream",
     "text": [
      "True\n"
     ]
    }
   ],
   "source": [
    "question  =[]\n",
    "answer = []\n",
    "with open(\"/kaggle/input/simple-dialogs-for-chatbot/dialogs.txt\",'r') as f :\n",
    "    for line in f :\n",
    "        line  =  line.split('\\t')\n",
    "        question.append(line[0])\n",
    "        answer.append(line[1])\n",
    "print(len(question) == len(answer))"
   ]
  },
  {
   "cell_type": "code",
   "execution_count": 3,
   "id": "75943ffc",
   "metadata": {
    "execution": {
     "iopub.execute_input": "2024-10-14T14:19:45.649182Z",
     "iopub.status.busy": "2024-10-14T14:19:45.648765Z",
     "iopub.status.idle": "2024-10-14T14:19:45.658316Z",
     "shell.execute_reply": "2024-10-14T14:19:45.656954Z"
    },
    "papermill": {
     "duration": 0.022606,
     "end_time": "2024-10-14T14:19:45.660761",
     "exception": false,
     "start_time": "2024-10-14T14:19:45.638155",
     "status": "completed"
    },
    "tags": []
   },
   "outputs": [
    {
     "data": {
      "text/plain": [
       "['hi, how are you doing?',\n",
       " \"i'm fine. how about yourself?\",\n",
       " \"i'm pretty good. thanks for asking.\",\n",
       " 'no problem. so how have you been?',\n",
       " \"i've been great. what about you?\"]"
      ]
     },
     "execution_count": 3,
     "metadata": {},
     "output_type": "execute_result"
    }
   ],
   "source": [
    "question[:5]"
   ]
  },
  {
   "cell_type": "code",
   "execution_count": 4,
   "id": "82ac62ec",
   "metadata": {
    "execution": {
     "iopub.execute_input": "2024-10-14T14:19:45.681203Z",
     "iopub.status.busy": "2024-10-14T14:19:45.680730Z",
     "iopub.status.idle": "2024-10-14T14:19:45.688522Z",
     "shell.execute_reply": "2024-10-14T14:19:45.687313Z"
    },
    "papermill": {
     "duration": 0.020481,
     "end_time": "2024-10-14T14:19:45.690913",
     "exception": false,
     "start_time": "2024-10-14T14:19:45.670432",
     "status": "completed"
    },
    "tags": []
   },
   "outputs": [
    {
     "data": {
      "text/plain": [
       "[\"i'm fine. how about yourself?\\n\",\n",
       " \"i'm pretty good. thanks for asking.\\n\",\n",
       " 'no problem. so how have you been?\\n',\n",
       " \"i've been great. what about you?\\n\",\n",
       " \"i've been good. i'm in school right now.\\n\"]"
      ]
     },
     "execution_count": 4,
     "metadata": {},
     "output_type": "execute_result"
    }
   ],
   "source": [
    "answer[:5]"
   ]
  },
  {
   "cell_type": "markdown",
   "id": "d8336876",
   "metadata": {
    "papermill": {
     "duration": 0.008499,
     "end_time": "2024-10-14T14:19:45.709727",
     "exception": false,
     "start_time": "2024-10-14T14:19:45.701228",
     "status": "completed"
    },
    "tags": []
   },
   "source": [
    "### Data Cleaning"
   ]
  },
  {
   "cell_type": "code",
   "execution_count": 5,
   "id": "1e54fdf4",
   "metadata": {
    "execution": {
     "iopub.execute_input": "2024-10-14T14:19:45.729931Z",
     "iopub.status.busy": "2024-10-14T14:19:45.729492Z",
     "iopub.status.idle": "2024-10-14T14:19:45.736439Z",
     "shell.execute_reply": "2024-10-14T14:19:45.735041Z"
    },
    "papermill": {
     "duration": 0.02047,
     "end_time": "2024-10-14T14:19:45.739141",
     "exception": false,
     "start_time": "2024-10-14T14:19:45.718671",
     "status": "completed"
    },
    "tags": []
   },
   "outputs": [],
   "source": [
    "answer = [ i.replace(\"\\n\",\"\") for i in answer]"
   ]
  },
  {
   "cell_type": "code",
   "execution_count": 6,
   "id": "581a989c",
   "metadata": {
    "execution": {
     "iopub.execute_input": "2024-10-14T14:19:45.758544Z",
     "iopub.status.busy": "2024-10-14T14:19:45.758111Z",
     "iopub.status.idle": "2024-10-14T14:19:45.765521Z",
     "shell.execute_reply": "2024-10-14T14:19:45.764443Z"
    },
    "papermill": {
     "duration": 0.019655,
     "end_time": "2024-10-14T14:19:45.767821",
     "exception": false,
     "start_time": "2024-10-14T14:19:45.748166",
     "status": "completed"
    },
    "tags": []
   },
   "outputs": [
    {
     "data": {
      "text/plain": [
       "[\"i'm fine. how about yourself?\",\n",
       " \"i'm pretty good. thanks for asking.\",\n",
       " 'no problem. so how have you been?',\n",
       " \"i've been great. what about you?\",\n",
       " \"i've been good. i'm in school right now.\"]"
      ]
     },
     "execution_count": 6,
     "metadata": {},
     "output_type": "execute_result"
    }
   ],
   "source": [
    "answer[:5]"
   ]
  },
  {
   "cell_type": "code",
   "execution_count": 7,
   "id": "1b504cd6",
   "metadata": {
    "execution": {
     "iopub.execute_input": "2024-10-14T14:19:45.787841Z",
     "iopub.status.busy": "2024-10-14T14:19:45.787403Z",
     "iopub.status.idle": "2024-10-14T14:19:45.811169Z",
     "shell.execute_reply": "2024-10-14T14:19:45.809819Z"
    },
    "papermill": {
     "duration": 0.036748,
     "end_time": "2024-10-14T14:19:45.813568",
     "exception": false,
     "start_time": "2024-10-14T14:19:45.776820",
     "status": "completed"
    },
    "tags": []
   },
   "outputs": [
    {
     "data": {
      "text/html": [
       "<div>\n",
       "<style scoped>\n",
       "    .dataframe tbody tr th:only-of-type {\n",
       "        vertical-align: middle;\n",
       "    }\n",
       "\n",
       "    .dataframe tbody tr th {\n",
       "        vertical-align: top;\n",
       "    }\n",
       "\n",
       "    .dataframe thead th {\n",
       "        text-align: right;\n",
       "    }\n",
       "</style>\n",
       "<table border=\"1\" class=\"dataframe\">\n",
       "  <thead>\n",
       "    <tr style=\"text-align: right;\">\n",
       "      <th></th>\n",
       "      <th>question</th>\n",
       "      <th>answer</th>\n",
       "    </tr>\n",
       "  </thead>\n",
       "  <tbody>\n",
       "    <tr>\n",
       "      <th>0</th>\n",
       "      <td>hi, how are you doing?</td>\n",
       "      <td>i'm fine. how about yourself?</td>\n",
       "    </tr>\n",
       "    <tr>\n",
       "      <th>1</th>\n",
       "      <td>i'm fine. how about yourself?</td>\n",
       "      <td>i'm pretty good. thanks for asking.</td>\n",
       "    </tr>\n",
       "    <tr>\n",
       "      <th>2</th>\n",
       "      <td>i'm pretty good. thanks for asking.</td>\n",
       "      <td>no problem. so how have you been?</td>\n",
       "    </tr>\n",
       "    <tr>\n",
       "      <th>3</th>\n",
       "      <td>no problem. so how have you been?</td>\n",
       "      <td>i've been great. what about you?</td>\n",
       "    </tr>\n",
       "    <tr>\n",
       "      <th>4</th>\n",
       "      <td>i've been great. what about you?</td>\n",
       "      <td>i've been good. i'm in school right now.</td>\n",
       "    </tr>\n",
       "  </tbody>\n",
       "</table>\n",
       "</div>"
      ],
      "text/plain": [
       "                              question  \\\n",
       "0               hi, how are you doing?   \n",
       "1        i'm fine. how about yourself?   \n",
       "2  i'm pretty good. thanks for asking.   \n",
       "3    no problem. so how have you been?   \n",
       "4     i've been great. what about you?   \n",
       "\n",
       "                                     answer  \n",
       "0             i'm fine. how about yourself?  \n",
       "1       i'm pretty good. thanks for asking.  \n",
       "2         no problem. so how have you been?  \n",
       "3          i've been great. what about you?  \n",
       "4  i've been good. i'm in school right now.  "
      ]
     },
     "execution_count": 7,
     "metadata": {},
     "output_type": "execute_result"
    }
   ],
   "source": [
    "data = pd.DataFrame({\"question\" : question ,\"answer\":answer})\n",
    "data.head()"
   ]
  },
  {
   "cell_type": "code",
   "execution_count": 8,
   "id": "a232979f",
   "metadata": {
    "execution": {
     "iopub.execute_input": "2024-10-14T14:19:45.833610Z",
     "iopub.status.busy": "2024-10-14T14:19:45.833174Z",
     "iopub.status.idle": "2024-10-14T14:19:45.840540Z",
     "shell.execute_reply": "2024-10-14T14:19:45.839305Z"
    },
    "papermill": {
     "duration": 0.020061,
     "end_time": "2024-10-14T14:19:45.842833",
     "exception": false,
     "start_time": "2024-10-14T14:19:45.822772",
     "status": "completed"
    },
    "tags": []
   },
   "outputs": [],
   "source": [
    "def unicode_to_ascii(s):\n",
    "    return ''.join(c for c in unicodedata.normalize('NFD', s)\n",
    "      if unicodedata.category(c) != 'Mn')"
   ]
  },
  {
   "cell_type": "code",
   "execution_count": 9,
   "id": "33ced3e3",
   "metadata": {
    "execution": {
     "iopub.execute_input": "2024-10-14T14:19:45.863653Z",
     "iopub.status.busy": "2024-10-14T14:19:45.863227Z",
     "iopub.status.idle": "2024-10-14T14:19:45.875134Z",
     "shell.execute_reply": "2024-10-14T14:19:45.873385Z"
    },
    "papermill": {
     "duration": 0.025713,
     "end_time": "2024-10-14T14:19:45.877969",
     "exception": false,
     "start_time": "2024-10-14T14:19:45.852256",
     "status": "completed"
    },
    "tags": []
   },
   "outputs": [],
   "source": [
    "def clean_text(text):\n",
    "    text = unicode_to_ascii(text.lower().strip())\n",
    "    text = re.sub(r\"i'm\", \"i am\", text)\n",
    "    text = re.sub(r\"\\r\", \"\", text)\n",
    "    text = re.sub(r\"he's\", \"he is\", text)\n",
    "    text = re.sub(r\"she's\", \"she is\", text)\n",
    "    text = re.sub(r\"it's\", \"it is\", text)\n",
    "    text = re.sub(r\"that's\", \"that is\", text)\n",
    "    text = re.sub(r\"what's\", \"that is\", text)\n",
    "    text = re.sub(r\"where's\", \"where is\", text)\n",
    "    text = re.sub(r\"how's\", \"how is\", text)\n",
    "    text = re.sub(r\"\\'ll\", \" will\", text)\n",
    "    text = re.sub(r\"\\'ve\", \" have\", text)\n",
    "    text = re.sub(r\"\\'re\", \" are\", text)\n",
    "    text = re.sub(r\"\\'d\", \" would\", text)\n",
    "    text = re.sub(r\"\\'re\", \" are\", text)\n",
    "    text = re.sub(r\"won't\", \"will not\", text)\n",
    "    text = re.sub(r\"can't\", \"cannot\", text)\n",
    "    text = re.sub(r\"n't\", \" not\", text)\n",
    "    text = re.sub(r\"n'\", \"ng\", text)\n",
    "    text = re.sub(r\"'bout\", \"about\", text)\n",
    "    text = re.sub(r\"'til\", \"until\", text)\n",
    "    text = re.sub(r\"[-()\\\"#/@;:<>{}`+=~|.!?,]\", \"\", text)\n",
    "    text = text.translate(str.maketrans('', '', string.punctuation)) \n",
    "    text = re.sub(\"(\\\\W)\",\" \",text) \n",
    "    text = re.sub('\\S*\\d\\S*\\s*','', text)\n",
    "    text =  \"<sos> \" +  text + \" <eos>\"\n",
    "    return text"
   ]
  },
  {
   "cell_type": "code",
   "execution_count": 10,
   "id": "da9cc1c1",
   "metadata": {
    "execution": {
     "iopub.execute_input": "2024-10-14T14:19:45.907321Z",
     "iopub.status.busy": "2024-10-14T14:19:45.906744Z",
     "iopub.status.idle": "2024-10-14T14:19:45.915417Z",
     "shell.execute_reply": "2024-10-14T14:19:45.914249Z"
    },
    "papermill": {
     "duration": 0.026302,
     "end_time": "2024-10-14T14:19:45.917872",
     "exception": false,
     "start_time": "2024-10-14T14:19:45.891570",
     "status": "completed"
    },
    "tags": []
   },
   "outputs": [
    {
     "data": {
      "text/plain": [
       "'hi, how are you doing?'"
      ]
     },
     "execution_count": 10,
     "metadata": {},
     "output_type": "execute_result"
    }
   ],
   "source": [
    "data[\"question\"][0]"
   ]
  },
  {
   "cell_type": "code",
   "execution_count": 11,
   "id": "1a8a4783",
   "metadata": {
    "execution": {
     "iopub.execute_input": "2024-10-14T14:19:45.938724Z",
     "iopub.status.busy": "2024-10-14T14:19:45.938200Z",
     "iopub.status.idle": "2024-10-14T14:19:46.121661Z",
     "shell.execute_reply": "2024-10-14T14:19:46.119742Z"
    },
    "papermill": {
     "duration": 0.198667,
     "end_time": "2024-10-14T14:19:46.126056",
     "exception": false,
     "start_time": "2024-10-14T14:19:45.927389",
     "status": "completed"
    },
    "tags": []
   },
   "outputs": [
    {
     "data": {
      "text/plain": [
       "'<sos> hi how are you doing <eos>'"
      ]
     },
     "execution_count": 11,
     "metadata": {},
     "output_type": "execute_result"
    }
   ],
   "source": [
    "data[\"question\"] = data.question.apply(clean_text)\n",
    "data[\"question\"][0]"
   ]
  },
  {
   "cell_type": "code",
   "execution_count": 12,
   "id": "f3271ce0",
   "metadata": {
    "execution": {
     "iopub.execute_input": "2024-10-14T14:19:46.157328Z",
     "iopub.status.busy": "2024-10-14T14:19:46.156248Z",
     "iopub.status.idle": "2024-10-14T14:19:46.336815Z",
     "shell.execute_reply": "2024-10-14T14:19:46.335409Z"
    },
    "papermill": {
     "duration": 0.199037,
     "end_time": "2024-10-14T14:19:46.339930",
     "exception": false,
     "start_time": "2024-10-14T14:19:46.140893",
     "status": "completed"
    },
    "tags": []
   },
   "outputs": [],
   "source": [
    "data[\"answer\"] = data.answer.apply(clean_text)"
   ]
  },
  {
   "cell_type": "code",
   "execution_count": 13,
   "id": "fff75205",
   "metadata": {
    "execution": {
     "iopub.execute_input": "2024-10-14T14:19:46.368293Z",
     "iopub.status.busy": "2024-10-14T14:19:46.367829Z",
     "iopub.status.idle": "2024-10-14T14:19:46.374544Z",
     "shell.execute_reply": "2024-10-14T14:19:46.373175Z"
    },
    "papermill": {
     "duration": 0.023238,
     "end_time": "2024-10-14T14:19:46.377671",
     "exception": false,
     "start_time": "2024-10-14T14:19:46.354433",
     "status": "completed"
    },
    "tags": []
   },
   "outputs": [],
   "source": [
    "question  = data.question.values.tolist()\n",
    "answer =  data.answer.values.tolist()"
   ]
  },
  {
   "cell_type": "markdown",
   "id": "a5102395",
   "metadata": {
    "papermill": {
     "duration": 0.01262,
     "end_time": "2024-10-14T14:19:46.402426",
     "exception": false,
     "start_time": "2024-10-14T14:19:46.389806",
     "status": "completed"
    },
    "tags": []
   },
   "source": [
    "### NLP"
   ]
  },
  {
   "cell_type": "code",
   "execution_count": 14,
   "id": "138bfeec",
   "metadata": {
    "execution": {
     "iopub.execute_input": "2024-10-14T14:19:46.426599Z",
     "iopub.status.busy": "2024-10-14T14:19:46.426175Z",
     "iopub.status.idle": "2024-10-14T14:19:46.432603Z",
     "shell.execute_reply": "2024-10-14T14:19:46.431298Z"
    },
    "papermill": {
     "duration": 0.022283,
     "end_time": "2024-10-14T14:19:46.435061",
     "exception": false,
     "start_time": "2024-10-14T14:19:46.412778",
     "status": "completed"
    },
    "tags": []
   },
   "outputs": [],
   "source": [
    "# Tokenize the cleaned questions and answers\n",
    "def tokenize(lang):\n",
    "    lang_tokenizer = tf.keras.preprocessing.text.Tokenizer(\n",
    "      filters='')\n",
    "    lang_tokenizer.fit_on_texts(lang)\n",
    "    tensor = lang_tokenizer.texts_to_sequences(lang)\n",
    "\n",
    "    tensor = tf.keras.preprocessing.sequence.pad_sequences(tensor,\n",
    "                                                         padding='post')\n",
    "\n",
    "    return tensor, lang_tokenizer"
   ]
  },
  {
   "cell_type": "code",
   "execution_count": 15,
   "id": "475cd56d",
   "metadata": {
    "execution": {
     "iopub.execute_input": "2024-10-14T14:19:46.456411Z",
     "iopub.status.busy": "2024-10-14T14:19:46.455321Z",
     "iopub.status.idle": "2024-10-14T14:19:46.842766Z",
     "shell.execute_reply": "2024-10-14T14:19:46.841549Z"
    },
    "papermill": {
     "duration": 0.40139,
     "end_time": "2024-10-14T14:19:46.845942",
     "exception": false,
     "start_time": "2024-10-14T14:19:46.444552",
     "status": "completed"
    },
    "tags": []
   },
   "outputs": [],
   "source": [
    "input_tensor , inp_lang  =  tokenize(question)"
   ]
  },
  {
   "cell_type": "code",
   "execution_count": 16,
   "id": "bf5890f6",
   "metadata": {
    "execution": {
     "iopub.execute_input": "2024-10-14T14:19:46.878043Z",
     "iopub.status.busy": "2024-10-14T14:19:46.876944Z",
     "iopub.status.idle": "2024-10-14T14:19:46.965206Z",
     "shell.execute_reply": "2024-10-14T14:19:46.964133Z"
    },
    "papermill": {
     "duration": 0.106664,
     "end_time": "2024-10-14T14:19:46.967791",
     "exception": false,
     "start_time": "2024-10-14T14:19:46.861127",
     "status": "completed"
    },
    "tags": []
   },
   "outputs": [],
   "source": [
    "target_tensor , targ_lang  =  tokenize(answer)"
   ]
  },
  {
   "cell_type": "code",
   "execution_count": 17,
   "id": "f4d94274",
   "metadata": {
    "execution": {
     "iopub.execute_input": "2024-10-14T14:19:46.988879Z",
     "iopub.status.busy": "2024-10-14T14:19:46.987823Z",
     "iopub.status.idle": "2024-10-14T14:19:46.993985Z",
     "shell.execute_reply": "2024-10-14T14:19:46.992830Z"
    },
    "papermill": {
     "duration": 0.019021,
     "end_time": "2024-10-14T14:19:46.996198",
     "exception": false,
     "start_time": "2024-10-14T14:19:46.977177",
     "status": "completed"
    },
    "tags": []
   },
   "outputs": [],
   "source": [
    "def remove_tags(sentence):\n",
    "    return sentence.split(\"<start>\")[-1].split(\"<end>\")[0]"
   ]
  },
  {
   "cell_type": "code",
   "execution_count": 18,
   "id": "ffe3c104",
   "metadata": {
    "execution": {
     "iopub.execute_input": "2024-10-14T14:19:47.017083Z",
     "iopub.status.busy": "2024-10-14T14:19:47.016514Z",
     "iopub.status.idle": "2024-10-14T14:19:47.022432Z",
     "shell.execute_reply": "2024-10-14T14:19:47.021340Z"
    },
    "papermill": {
     "duration": 0.01915,
     "end_time": "2024-10-14T14:19:47.024786",
     "exception": false,
     "start_time": "2024-10-14T14:19:47.005636",
     "status": "completed"
    },
    "tags": []
   },
   "outputs": [],
   "source": [
    "max_length_targ, max_length_inp = target_tensor.shape[1], input_tensor.shape[1]"
   ]
  },
  {
   "cell_type": "code",
   "execution_count": 19,
   "id": "ad281f76",
   "metadata": {
    "execution": {
     "iopub.execute_input": "2024-10-14T14:19:47.046927Z",
     "iopub.status.busy": "2024-10-14T14:19:47.046398Z",
     "iopub.status.idle": "2024-10-14T14:19:47.061364Z",
     "shell.execute_reply": "2024-10-14T14:19:47.058626Z"
    },
    "papermill": {
     "duration": 0.033047,
     "end_time": "2024-10-14T14:19:47.067105",
     "exception": false,
     "start_time": "2024-10-14T14:19:47.034058",
     "status": "completed"
    },
    "tags": []
   },
   "outputs": [],
   "source": [
    "# Creating training and validation sets using an 80-20 split\n",
    "input_tensor_train, input_tensor_val, target_tensor_train, target_tensor_val = train_test_split(input_tensor, target_tensor, test_size=0.2)"
   ]
  },
  {
   "cell_type": "markdown",
   "id": "3ac6d3fd",
   "metadata": {
    "papermill": {
     "duration": 0.011727,
     "end_time": "2024-10-14T14:19:47.091735",
     "exception": false,
     "start_time": "2024-10-14T14:19:47.080008",
     "status": "completed"
    },
    "tags": []
   },
   "source": [
    "### Model"
   ]
  },
  {
   "cell_type": "code",
   "execution_count": 20,
   "id": "b2c790eb",
   "metadata": {
    "execution": {
     "iopub.execute_input": "2024-10-14T14:19:47.113466Z",
     "iopub.status.busy": "2024-10-14T14:19:47.112908Z",
     "iopub.status.idle": "2024-10-14T14:19:47.228165Z",
     "shell.execute_reply": "2024-10-14T14:19:47.226910Z"
    },
    "papermill": {
     "duration": 0.129539,
     "end_time": "2024-10-14T14:19:47.230775",
     "exception": false,
     "start_time": "2024-10-14T14:19:47.101236",
     "status": "completed"
    },
    "tags": []
   },
   "outputs": [
    {
     "data": {
      "text/plain": [
       "(TensorShape([64, 22]), TensorShape([64, 22]))"
      ]
     },
     "execution_count": 20,
     "metadata": {},
     "output_type": "execute_result"
    }
   ],
   "source": [
    "BUFFER_SIZE = len(input_tensor_train)\n",
    "BATCH_SIZE = 64\n",
    "steps_per_epoch = len(input_tensor_train)//BATCH_SIZE\n",
    "embedding_dim = 256\n",
    "units = 1024\n",
    "vocab_inp_size = len(inp_lang.word_index)+1\n",
    "vocab_tar_size = len(targ_lang.word_index)+1\n",
    "\n",
    "dataset = tf.data.Dataset.from_tensor_slices((input_tensor_train, target_tensor_train)).shuffle(BUFFER_SIZE)\n",
    "dataset = dataset.batch(BATCH_SIZE, drop_remainder=True)\n",
    "\n",
    "example_input_batch, example_target_batch = next(iter(dataset))\n",
    "example_input_batch.shape, example_target_batch.shape"
   ]
  },
  {
   "cell_type": "code",
   "execution_count": 21,
   "id": "738619c3",
   "metadata": {
    "execution": {
     "iopub.execute_input": "2024-10-14T14:19:47.253857Z",
     "iopub.status.busy": "2024-10-14T14:19:47.253440Z",
     "iopub.status.idle": "2024-10-14T14:19:47.262230Z",
     "shell.execute_reply": "2024-10-14T14:19:47.261255Z"
    },
    "papermill": {
     "duration": 0.023261,
     "end_time": "2024-10-14T14:19:47.265117",
     "exception": false,
     "start_time": "2024-10-14T14:19:47.241856",
     "status": "completed"
    },
    "tags": []
   },
   "outputs": [],
   "source": [
    "class Encoder(tf.keras.Model):\n",
    "    def __init__(self, vocab_size, embedding_dim, enc_units, batch_sz):\n",
    "        super(Encoder, self).__init__()\n",
    "        self.batch_sz = batch_sz\n",
    "        self.enc_units = enc_units\n",
    "        self.embedding = tf.keras.layers.Embedding(vocab_size, embedding_dim)\n",
    "        self.gru = tf.keras.layers.GRU(self.enc_units,\n",
    "                                       return_sequences=True,\n",
    "                                       return_state=True,\n",
    "                                       recurrent_initializer='glorot_uniform')\n",
    "\n",
    "    def call(self, x,hidden):\n",
    "        x = self.embedding(x)\n",
    "        output, state = self.gru(x, initial_state = hidden)\n",
    "        return output, state\n",
    "    \n",
    "    def initialize_hidden_state(self):\n",
    "        return tf.zeros((self.batch_sz, self.enc_units))\n"
   ]
  },
  {
   "cell_type": "code",
   "execution_count": 22,
   "id": "3eac8ac5",
   "metadata": {
    "execution": {
     "iopub.execute_input": "2024-10-14T14:19:47.291599Z",
     "iopub.status.busy": "2024-10-14T14:19:47.291085Z",
     "iopub.status.idle": "2024-10-14T14:19:47.999449Z",
     "shell.execute_reply": "2024-10-14T14:19:47.998146Z"
    },
    "papermill": {
     "duration": 0.722423,
     "end_time": "2024-10-14T14:19:48.001961",
     "exception": false,
     "start_time": "2024-10-14T14:19:47.279538",
     "status": "completed"
    },
    "tags": []
   },
   "outputs": [
    {
     "name": "stdout",
     "output_type": "stream",
     "text": [
      "Encoder output shape: (batch size, sequence length, units) (64, 22, 1024)\n",
      "Encoder Hidden state shape: (batch size, units) (64, 1024)\n"
     ]
    }
   ],
   "source": [
    "encoder = Encoder(vocab_inp_size, embedding_dim, units, BATCH_SIZE)\n",
    "\n",
    "# sample input\n",
    "sample_hidden = encoder.initialize_hidden_state()\n",
    "sample_output, sample_hidden = encoder(example_input_batch, sample_hidden)\n",
    "print ('Encoder output shape: (batch size, sequence length, units) {}'.format(sample_output.shape))\n",
    "print ('Encoder Hidden state shape: (batch size, units) {}'.format(sample_hidden.shape))"
   ]
  },
  {
   "cell_type": "code",
   "execution_count": 23,
   "id": "faa1f6ed",
   "metadata": {
    "execution": {
     "iopub.execute_input": "2024-10-14T14:19:48.023287Z",
     "iopub.status.busy": "2024-10-14T14:19:48.022850Z",
     "iopub.status.idle": "2024-10-14T14:19:48.031979Z",
     "shell.execute_reply": "2024-10-14T14:19:48.030520Z"
    },
    "papermill": {
     "duration": 0.022935,
     "end_time": "2024-10-14T14:19:48.034667",
     "exception": false,
     "start_time": "2024-10-14T14:19:48.011732",
     "status": "completed"
    },
    "tags": []
   },
   "outputs": [],
   "source": [
    "class BahdanauAttention(tf.keras.layers.Layer):\n",
    "    def __init__(self, units):\n",
    "        super(BahdanauAttention, self).__init__()\n",
    "        self.W1 = tf.keras.layers.Dense(units)\n",
    "        self.W2 = tf.keras.layers.Dense(units)\n",
    "        self.V = tf.keras.layers.Dense(1)\n",
    "\n",
    "    def call(self, query, values):\n",
    "        # query hidden state shape == (batch_size, hidden size)\n",
    "        # query_with_time_axis shape == (batch_size, 1, hidden size)\n",
    "        # values shape == (batch_size, max_len, hidden size)\n",
    "        # we are doing this to broadcast addition along the time axis to calculate the score\n",
    "        query_with_time_axis = tf.expand_dims(query, 1)\n",
    "\n",
    "        # score shape == (batch_size, max_length, 1)\n",
    "        # we get 1 at the last axis because we are applying score to self.V\n",
    "        # the shape of the tensor before applying self.V is (batch_size, max_length, units)\n",
    "        score = self.V(tf.nn.tanh(\n",
    "            self.W1(query_with_time_axis) + self.W2(values)))\n",
    "\n",
    "        # attention_weights shape == (batch_size, max_length, 1)\n",
    "        attention_weights = tf.nn.softmax(score, axis=1)\n",
    "\n",
    "        # context_vector shape after sum == (batch_size, hidden_size)\n",
    "        context_vector = attention_weights * values\n",
    "        context_vector = tf.reduce_sum(context_vector, axis=1)\n",
    "\n",
    "        return context_vector, attention_weights"
   ]
  },
  {
   "cell_type": "code",
   "execution_count": 24,
   "id": "eaa5bbf6",
   "metadata": {
    "execution": {
     "iopub.execute_input": "2024-10-14T14:19:48.057227Z",
     "iopub.status.busy": "2024-10-14T14:19:48.055550Z",
     "iopub.status.idle": "2024-10-14T14:19:48.174365Z",
     "shell.execute_reply": "2024-10-14T14:19:48.173129Z"
    },
    "papermill": {
     "duration": 0.132682,
     "end_time": "2024-10-14T14:19:48.176935",
     "exception": false,
     "start_time": "2024-10-14T14:19:48.044253",
     "status": "completed"
    },
    "tags": []
   },
   "outputs": [
    {
     "name": "stdout",
     "output_type": "stream",
     "text": [
      "Attention result shape: (batch size, units) (64, 1024)\n",
      "Attention weights shape: (batch_size, sequence_length, 1) (64, 22, 1)\n"
     ]
    }
   ],
   "source": [
    "attention_layer = BahdanauAttention(10)\n",
    "attention_result, attention_weights = attention_layer(sample_hidden, sample_output)\n",
    "\n",
    "print(\"Attention result shape: (batch size, units) {}\".format(attention_result.shape))\n",
    "print(\"Attention weights shape: (batch_size, sequence_length, 1) {}\".format(attention_weights.shape))"
   ]
  },
  {
   "cell_type": "code",
   "execution_count": 25,
   "id": "c8005004",
   "metadata": {
    "execution": {
     "iopub.execute_input": "2024-10-14T14:19:48.199039Z",
     "iopub.status.busy": "2024-10-14T14:19:48.198613Z",
     "iopub.status.idle": "2024-10-14T14:19:48.208472Z",
     "shell.execute_reply": "2024-10-14T14:19:48.207412Z"
    },
    "papermill": {
     "duration": 0.02377,
     "end_time": "2024-10-14T14:19:48.210977",
     "exception": false,
     "start_time": "2024-10-14T14:19:48.187207",
     "status": "completed"
    },
    "tags": []
   },
   "outputs": [],
   "source": [
    "class Decoder(tf.keras.Model):\n",
    "    def __init__(self, vocab_size, embedding_dim, dec_units, batch_sz):\n",
    "        super(Decoder, self).__init__()\n",
    "        self.batch_sz = batch_sz\n",
    "        self.dec_units = dec_units\n",
    "        self.embedding = tf.keras.layers.Embedding(vocab_size, embedding_dim)\n",
    "        self.gru = tf.keras.layers.GRU(self.dec_units,\n",
    "                                       return_sequences=True,\n",
    "                                       return_state=True,\n",
    "                                       recurrent_initializer='glorot_uniform')\n",
    "        self.fc = tf.keras.layers.Dense(vocab_size)\n",
    "\n",
    "        # used for attention\n",
    "        self.attention = BahdanauAttention(self.dec_units)\n",
    "\n",
    "    def call(self, x, hidden, enc_output):\n",
    "        # enc_output shape == (batch_size, max_length, hidden_size)\n",
    "        context_vector, attention_weights = self.attention(hidden, enc_output)\n",
    "\n",
    "        # x shape after passing through embedding == (batch_size, 1, embedding_dim)\n",
    "        x = self.embedding(x)\n",
    "\n",
    "        # x shape after concatenation == (batch_size, 1, embedding_dim + hidden_size)\n",
    "        x = tf.concat([tf.expand_dims(context_vector, 1), x], axis=-1)\n",
    "\n",
    "        # passing the concatenated vector to the GRU\n",
    "        output, state = self.gru(x)\n",
    "\n",
    "        # output shape == (batch_size * 1, hidden_size)\n",
    "        output = tf.reshape(output, (-1, output.shape[2]))\n",
    "\n",
    "        # output shape == (batch_size, vocab)\n",
    "        x = self.fc(output)\n",
    "\n",
    "        return x, state, attention_weights"
   ]
  },
  {
   "cell_type": "code",
   "execution_count": 26,
   "id": "51b63d6b",
   "metadata": {
    "execution": {
     "iopub.execute_input": "2024-10-14T14:19:48.232250Z",
     "iopub.status.busy": "2024-10-14T14:19:48.231823Z",
     "iopub.status.idle": "2024-10-14T14:19:48.752407Z",
     "shell.execute_reply": "2024-10-14T14:19:48.750762Z"
    },
    "papermill": {
     "duration": 0.534788,
     "end_time": "2024-10-14T14:19:48.755502",
     "exception": false,
     "start_time": "2024-10-14T14:19:48.220714",
     "status": "completed"
    },
    "tags": []
   },
   "outputs": [
    {
     "name": "stdout",
     "output_type": "stream",
     "text": [
      "Decoder output shape: (batch_size, vocab size) (64, 2347)\n"
     ]
    }
   ],
   "source": [
    "decoder = Decoder(vocab_tar_size, embedding_dim, units, BATCH_SIZE)\n",
    "\n",
    "sample_decoder_output, _, _ = decoder(tf.random.uniform((BATCH_SIZE, 1)),\n",
    "                                      sample_hidden, sample_output)\n",
    "\n",
    "print ('Decoder output shape: (batch_size, vocab size) {}'.format(sample_decoder_output.shape))"
   ]
  },
  {
   "cell_type": "code",
   "execution_count": 27,
   "id": "6dc38283",
   "metadata": {
    "execution": {
     "iopub.execute_input": "2024-10-14T14:19:48.778934Z",
     "iopub.status.busy": "2024-10-14T14:19:48.778515Z",
     "iopub.status.idle": "2024-10-14T14:19:48.792215Z",
     "shell.execute_reply": "2024-10-14T14:19:48.791081Z"
    },
    "papermill": {
     "duration": 0.027242,
     "end_time": "2024-10-14T14:19:48.794914",
     "exception": false,
     "start_time": "2024-10-14T14:19:48.767672",
     "status": "completed"
    },
    "tags": []
   },
   "outputs": [],
   "source": [
    "optimizer = tf.keras.optimizers.Adam()\n",
    "loss_object = tf.keras.losses.SparseCategoricalCrossentropy(\n",
    "    from_logits=True, reduction='none')\n",
    "\n",
    "def loss_function(real, pred):\n",
    "    mask = tf.math.logical_not(tf.math.equal(real, 0))\n",
    "    loss_ = loss_object(real, pred)\n",
    "\n",
    "    mask = tf.cast(mask, dtype=loss_.dtype)\n",
    "    loss_ *= mask\n",
    "\n",
    "    return tf.reduce_mean(loss_)"
   ]
  },
  {
   "cell_type": "code",
   "execution_count": 28,
   "id": "c8a21cff",
   "metadata": {
    "execution": {
     "iopub.execute_input": "2024-10-14T14:19:48.820314Z",
     "iopub.status.busy": "2024-10-14T14:19:48.819875Z",
     "iopub.status.idle": "2024-10-14T14:19:48.830837Z",
     "shell.execute_reply": "2024-10-14T14:19:48.829587Z"
    },
    "papermill": {
     "duration": 0.028294,
     "end_time": "2024-10-14T14:19:48.833896",
     "exception": false,
     "start_time": "2024-10-14T14:19:48.805602",
     "status": "completed"
    },
    "tags": []
   },
   "outputs": [],
   "source": [
    "@tf.function\n",
    "def train_step(inp, targ, enc_hidden):\n",
    "    loss = 0\n",
    "\n",
    "    with tf.GradientTape() as tape:\n",
    "        enc_output, enc_hidden = encoder(inp, enc_hidden)\n",
    "\n",
    "        dec_hidden = enc_hidden\n",
    "\n",
    "        dec_input = tf.expand_dims([targ_lang.word_index['<sos>']] * BATCH_SIZE, 1)\n",
    "\n",
    "        # Teacher forcing - feeding the target as the next input\n",
    "        for t in range(1, targ.shape[1]):\n",
    "            # passing enc_output to the decoder\n",
    "            predictions, dec_hidden, _ = decoder(dec_input, dec_hidden, enc_output)\n",
    "\n",
    "            loss += loss_function(targ[:, t], predictions)\n",
    "\n",
    "            # using teacher forcing\n",
    "            dec_input = tf.expand_dims(targ[:, t], 1)\n",
    "\n",
    "    batch_loss = (loss / int(targ.shape[1]))\n",
    "\n",
    "    variables = encoder.trainable_variables + decoder.trainable_variables\n",
    "\n",
    "    gradients = tape.gradient(loss, variables)\n",
    "\n",
    "    optimizer.apply_gradients(zip(gradients, variables))\n",
    "\n",
    "    return batch_loss"
   ]
  },
  {
   "cell_type": "code",
   "execution_count": 29,
   "id": "e051bb84",
   "metadata": {
    "execution": {
     "iopub.execute_input": "2024-10-14T14:19:48.860776Z",
     "iopub.status.busy": "2024-10-14T14:19:48.860324Z",
     "iopub.status.idle": "2024-10-14T19:20:19.023721Z",
     "shell.execute_reply": "2024-10-14T19:20:19.022597Z"
    },
    "papermill": {
     "duration": 18030.19033,
     "end_time": "2024-10-14T19:20:19.036137",
     "exception": false,
     "start_time": "2024-10-14T14:19:48.845807",
     "status": "completed"
    },
    "tags": []
   },
   "outputs": [
    {
     "name": "stdout",
     "output_type": "stream",
     "text": [
      "Epoch:  4 Loss:1.5700\n",
      "Epoch:  8 Loss:1.3406\n",
      "Epoch: 12 Loss:1.1428\n",
      "Epoch: 16 Loss:0.9407\n",
      "Epoch: 20 Loss:0.7253\n",
      "Epoch: 24 Loss:0.4937\n",
      "Epoch: 28 Loss:0.2820\n",
      "Epoch: 32 Loss:0.1180\n",
      "Epoch: 36 Loss:0.0556\n",
      "Epoch: 40 Loss:0.0297\n"
     ]
    }
   ],
   "source": [
    "EPOCHS = 40\n",
    "\n",
    "for epoch in range(1, EPOCHS + 1):\n",
    "    enc_hidden = encoder.initialize_hidden_state()\n",
    "    total_loss = 0\n",
    "\n",
    "    for (batch, (inp, targ)) in enumerate(dataset.take(steps_per_epoch)):\n",
    "        batch_loss = train_step(inp, targ, enc_hidden)\n",
    "        total_loss += batch_loss\n",
    "\n",
    "    if(epoch % 4 == 0):\n",
    "        print('Epoch:{:3d} Loss:{:.4f}'.format(epoch,\n",
    "                                          total_loss / steps_per_epoch))"
   ]
  },
  {
   "cell_type": "code",
   "execution_count": 30,
   "id": "384ecefe",
   "metadata": {
    "execution": {
     "iopub.execute_input": "2024-10-14T19:20:19.059226Z",
     "iopub.status.busy": "2024-10-14T19:20:19.058759Z",
     "iopub.status.idle": "2024-10-14T19:20:19.069566Z",
     "shell.execute_reply": "2024-10-14T19:20:19.068394Z"
    },
    "papermill": {
     "duration": 0.025024,
     "end_time": "2024-10-14T19:20:19.071796",
     "exception": false,
     "start_time": "2024-10-14T19:20:19.046772",
     "status": "completed"
    },
    "tags": []
   },
   "outputs": [],
   "source": [
    "def evaluate(sentence):\n",
    "    sentence = clean_text(sentence)\n",
    "\n",
    "    inputs = [inp_lang.word_index[i] for i in sentence.split(' ')]\n",
    "    inputs = tf.keras.preprocessing.sequence.pad_sequences([inputs],\n",
    "                                                         maxlen=max_length_inp,\n",
    "                                                         padding='post')\n",
    "    inputs = tf.convert_to_tensor(inputs)\n",
    "\n",
    "    result = ''\n",
    "\n",
    "    hidden = [tf.zeros((1, units))]\n",
    "    enc_out, enc_hidden = encoder(inputs, hidden)\n",
    "\n",
    "    dec_hidden = enc_hidden\n",
    "    dec_input = tf.expand_dims([targ_lang.word_index['<sos>']], 0)\n",
    "\n",
    "    for t in range(max_length_targ):\n",
    "        predictions, dec_hidden, attention_weights = decoder(dec_input,\n",
    "                                                             dec_hidden,\n",
    "                                                             enc_out)\n",
    "\n",
    "        # storing the attention weights to plot later on\n",
    "        attention_weights = tf.reshape(attention_weights, (-1, ))\n",
    "\n",
    "        predicted_id = tf.argmax(predictions[0]).numpy()\n",
    "\n",
    "        result += targ_lang.index_word[predicted_id] + ' '\n",
    "\n",
    "        if targ_lang.index_word[predicted_id] == '<eos>':\n",
    "            return remove_tags(result), remove_tags(sentence)\n",
    "\n",
    "        # the predicted ID is fed back into the model\n",
    "        dec_input = tf.expand_dims([predicted_id], 0)\n",
    "\n",
    "    return remove_tags(result), remove_tags(sentence)"
   ]
  },
  {
   "cell_type": "code",
   "execution_count": 31,
   "id": "05a22b06",
   "metadata": {
    "execution": {
     "iopub.execute_input": "2024-10-14T19:20:19.094305Z",
     "iopub.status.busy": "2024-10-14T19:20:19.093864Z",
     "iopub.status.idle": "2024-10-14T19:20:19.115312Z",
     "shell.execute_reply": "2024-10-14T19:20:19.113631Z"
    },
    "papermill": {
     "duration": 0.035461,
     "end_time": "2024-10-14T19:20:19.117841",
     "exception": false,
     "start_time": "2024-10-14T19:20:19.082380",
     "status": "completed"
    },
    "tags": []
   },
   "outputs": [
    {
     "name": "stdout",
     "output_type": "stream",
     "text": [
      "True\n"
     ]
    }
   ],
   "source": [
    "questions  =[]\n",
    "answers = []\n",
    "with open(\"/kaggle/input/simple-dialogs-for-chatbot/dialogs.txt\",'r') as f :\n",
    "    for line in f :\n",
    "        line  =  line.split('\\t')\n",
    "        questions.append(line[0])\n",
    "        answers.append(line[1])\n",
    "print(len(question) == len(answer))"
   ]
  },
  {
   "cell_type": "code",
   "execution_count": 32,
   "id": "84310065",
   "metadata": {
    "execution": {
     "iopub.execute_input": "2024-10-14T19:20:19.141014Z",
     "iopub.status.busy": "2024-10-14T19:20:19.140003Z",
     "iopub.status.idle": "2024-10-14T19:20:19.654370Z",
     "shell.execute_reply": "2024-10-14T19:20:19.653084Z"
    },
    "papermill": {
     "duration": 0.528569,
     "end_time": "2024-10-14T19:20:19.656956",
     "exception": false,
     "start_time": "2024-10-14T19:20:19.128387",
     "status": "completed"
    },
    "tags": []
   },
   "outputs": [
    {
     "name": "stdout",
     "output_type": "stream",
     "text": [
      "Question: <sos> i believe so <eos>\n",
      "Predicted answer: good i hope it does not cool off this weekend <eos> \n"
     ]
    }
   ],
   "source": [
    "def ask(sentence):\n",
    "    result, sentence = evaluate(sentence)\n",
    "\n",
    "    print('Question: %s' % (sentence))\n",
    "    print('Predicted answer: {}'.format(result))\n",
    "ask(questions[100])"
   ]
  },
  {
   "cell_type": "code",
   "execution_count": 33,
   "id": "9429b963",
   "metadata": {
    "execution": {
     "iopub.execute_input": "2024-10-14T19:20:19.680000Z",
     "iopub.status.busy": "2024-10-14T19:20:19.679556Z",
     "iopub.status.idle": "2024-10-14T19:20:20.187898Z",
     "shell.execute_reply": "2024-10-14T19:20:20.186800Z"
    },
    "papermill": {
     "duration": 0.522701,
     "end_time": "2024-10-14T19:20:20.190714",
     "exception": false,
     "start_time": "2024-10-14T19:20:19.668013",
     "status": "completed"
    },
    "tags": []
   },
   "outputs": [
    {
     "name": "stdout",
     "output_type": "stream",
     "text": [
      "Question: <sos> i wish it would cool off one day <eos>\n",
      "Predicted answer: that is how i feel i want winter to come soon <eos> \n"
     ]
    }
   ],
   "source": [
    "ask(questions[50])"
   ]
  },
  {
   "cell_type": "code",
   "execution_count": 34,
   "id": "dfd8c120",
   "metadata": {
    "execution": {
     "iopub.execute_input": "2024-10-14T19:20:20.214868Z",
     "iopub.status.busy": "2024-10-14T19:20:20.214454Z",
     "iopub.status.idle": "2024-10-14T19:20:20.220419Z",
     "shell.execute_reply": "2024-10-14T19:20:20.219106Z"
    },
    "papermill": {
     "duration": 0.020872,
     "end_time": "2024-10-14T19:20:20.222751",
     "exception": false,
     "start_time": "2024-10-14T19:20:20.201879",
     "status": "completed"
    },
    "tags": []
   },
   "outputs": [
    {
     "name": "stdout",
     "output_type": "stream",
     "text": [
      "that's how i feel, i want winter to come soon.\n",
      "\n"
     ]
    }
   ],
   "source": [
    "print(answers[50])"
   ]
  },
  {
   "cell_type": "code",
   "execution_count": null,
   "id": "778abb3e",
   "metadata": {
    "papermill": {
     "duration": 0.010334,
     "end_time": "2024-10-14T19:20:20.243942",
     "exception": false,
     "start_time": "2024-10-14T19:20:20.233608",
     "status": "completed"
    },
    "tags": []
   },
   "outputs": [],
   "source": []
  }
 ],
 "metadata": {
  "kaggle": {
   "accelerator": "none",
   "dataSources": [
    {
     "datasetId": 715041,
     "sourceId": 1245709,
     "sourceType": "datasetVersion"
    }
   ],
   "dockerImageVersionId": 30786,
   "isGpuEnabled": false,
   "isInternetEnabled": true,
   "language": "python",
   "sourceType": "notebook"
  },
  "kernelspec": {
   "display_name": "Python 3",
   "language": "python",
   "name": "python3"
  },
  "language_info": {
   "codemirror_mode": {
    "name": "ipython",
    "version": 3
   },
   "file_extension": ".py",
   "mimetype": "text/x-python",
   "name": "python",
   "nbconvert_exporter": "python",
   "pygments_lexer": "ipython3",
   "version": "3.10.14"
  },
  "papermill": {
   "default_parameters": {},
   "duration": 18058.611338,
   "end_time": "2024-10-14T19:20:23.792851",
   "environment_variables": {},
   "exception": null,
   "input_path": "__notebook__.ipynb",
   "output_path": "__notebook__.ipynb",
   "parameters": {},
   "start_time": "2024-10-14T14:19:25.181513",
   "version": "2.6.0"
  }
 },
 "nbformat": 4,
 "nbformat_minor": 5
}
